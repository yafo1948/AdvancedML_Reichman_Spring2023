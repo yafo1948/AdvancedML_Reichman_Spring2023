{
  "cells": [
    {
      "cell_type": "code",
      "execution_count": 13,
      "metadata": {
        "id": "zt0LeMKvSO2o"
      },
      "outputs": [],
      "source": [
        "%matplotlib inline\n",
        "# Import necessary libraries\n",
        "import numpy as np\n",
        "import matplotlib.pyplot as plt\n",
        "from matplotlib import animation\n",
        "from IPython.display import HTML\n",
        "from matplotlib import rc\n",
        "from functools import partial\n",
        "rc('animation', html='jshtml')"
      ]
    },
    {
      "cell_type": "code",
      "execution_count": 14,
      "metadata": {
        "id": "8H6d9pzYSWi0"
      },
      "outputs": [],
      "source": [
        "# Define a function to generate a random weak learner\n",
        "def get_weak_learner(x, r):\n",
        "  h = np.random.normal(0, 1, len(r))\n",
        "  h = h / np.linalg.norm(h)\n",
        "  inner = np.inner(h, r)\n",
        "  if inner < 0:\n",
        "      return h\n",
        "  else:\n",
        "      return -1 * h\n",
        "\n",
        "# Sum of Squared Error\n",
        "def calc_loss(cur, y):\n",
        "  return 0.5 * sum((v1 - v2)**2 for v1, v2 in zip(cur, y))\n",
        "\n",
        "# Perform one Boosting step\n",
        "def boost(x,y,H,alpha):\n",
        "  r = H - y\n",
        "  h = get_weak_learner(x,r)\n",
        "  H_new = H + alpha*h\n",
        "  loss = calc_loss(H_new,y)\n",
        "  return H_new, loss"
      ]
    },
    {
      "cell_type": "code",
      "execution_count": 15,
      "metadata": {
        "id": "QuKlqMT_7Ylr"
      },
      "outputs": [],
      "source": [
        "# Functions for the plotting\n",
        "def generate_axes(fig):\n",
        "  gridspec = fig.add_gridspec(nrows=2, ncols=9)\n",
        "  ax = fig.add_subplot(gridspec[0:2, 0:4], projection = '3d')\n",
        "  ax2 = fig.add_subplot(gridspec[1:2, 5:9])\n",
        "  return ax,ax2\n",
        "\n",
        "def init_plot(ax,ax2,y,H):\n",
        "  ax.plot(y[0],y[1],y[2],'*b',label = 'Target')\n",
        "  ax.text(y[0]-0.5,y[1]+0.05,y[2]+0.1,f'$y=$({y[0]},{y[1]},{y[2]})',size = 8)\n",
        "  ax.plot(H[0],H[1],H[2],'.r', label = 'Prediction')\n",
        "  line, = ax.plot([], [], [], '-r', linewidth = 2)\n",
        "  H_text = ax.text(*(H-0.1),f'$H_0=$({H[2]},{H[1]},{H[2]})',size = 8)\n",
        "  ax.legend()\n",
        "  mn, mx = -1, 1\n",
        "  ticks = np.linspace(mn,mx,5)\n",
        "  ax.set(xlim = [mn,mx], ylim = [mn, mx], zlim = [mn, mx], \n",
        "      xticks = ticks, yticks = ticks, zticks = ticks,\n",
        "      xlabel = '$y_1$', ylabel = '$y_2$', zlabel = '$y_3$')\n",
        "\n",
        "  line2, = ax2.plot(range(N),L, '-r', linewidth = 2, label = 'SSE')\n",
        "  title = ax2.set_title(f'Loss after 0 Iterations: {loss:.5f}')\n",
        "  ax2.legend()\n",
        "  ax2.set(xlabel = 'Iteration', ylabel = 'SSE')\n",
        "  return ax, ax2, line, H_text, line2, title\n",
        "\n",
        "def init_plot_fake(art):\n",
        "  line, line2, title, H_text = art\n",
        "  return art\n",
        "\n",
        "def update(frame, x, y, H ,L, art):\n",
        "  line, line2, title, H_text = art\n",
        "  H_i = H[frame]\n",
        "  \n",
        "  # This is where the Boosting happen\n",
        "  H_new, loss = boost(x,y,H_i,alpha)\n",
        "\n",
        "  H.append(H_new)\n",
        "  L[frame] = loss\n",
        "  Xs.append(H[frame][0])\n",
        "  Ys.append(H[frame][1])\n",
        "  Zs.append(H[frame][2])\n",
        "  line.set_data(Xs, Ys)\n",
        "  line.set_3d_properties(Zs)\n",
        "  line2.set_data(range(len(L)),L)\n",
        "  title.set_text(f'Loss after {frame} Iterations: {loss:.5f}')\n",
        "  H_text.set_text(f'$H_{{{frame}}}=$({H[frame][0]:.2f},{H[frame][1]:.2f},{H[frame][2]:.2f})')\n",
        "  H_text.set(position_3d = H[frame])\n",
        "  return art"
      ]
    },
    {
      "cell_type": "code",
      "execution_count": null,
      "metadata": {
        "id": "y-J61Eb9h5ZM"
      },
      "outputs": [],
      "source": [
        "# Set the seed for the random number generator to ensure reproducibility\n",
        "np.random.seed(50)\n",
        "\n",
        "# Set the learning rate and number of rounds\n",
        "alpha = 0.05\n",
        "N = 101\n",
        "\n",
        "# Set the number of dimensions and generate a random target vector\n",
        "p = 3\n",
        "x = np.random.rand(p)\n",
        "y = np.array((1,-1,-1)+ (-1, ) * (p-3))\n",
        "\n",
        "# Initialize the hypothesis and loss\n",
        "H = [np.array((0, ) * p),]\n",
        "Xs, Ys, Zs = [H[0][0],],[H[0][1],],[H[0][2],]\n",
        "L = np.zeros(N)\n",
        "loss = calc_loss(H[0], y)\n",
        "L[0] = loss\n",
        "\n",
        "# Set up the 3D plot for visualization\n",
        "fig = plt.figure(figsize = plt.figaspect(0.5))\n",
        "ax, ax2 = generate_axes(fig)\n",
        "ax, ax2, line, H_text, line2, title = init_plot(ax,ax2, y, H[0])\n",
        "art = [line, line2, title, H_text]\n",
        "\n",
        "# Run Bossting and generate animation\n",
        "anim = animation.FuncAnimation(fig, partial(update, x = x, y = y, H = H, L = L, art = art), \n",
        "                               interval=300, frames = N, blit=True, \n",
        "                               init_func=partial(init_plot_fake, art))\n",
        "plt.close(fig)\n",
        "\n",
        "anim\n",
        "\n",
        "# Save to file\n",
        "# FFwriter = animation.FFMpegWriter(fps=10)\n",
        "# anim.save('animation.mp4', writer = FFwriter)"
      ]
    }
  ],
  "metadata": {
    "colab": {
      "provenance": []
    },
    "kernelspec": {
      "display_name": "Python 3",
      "name": "python3"
    },
    "language_info": {
      "name": "python"
    }
  },
  "nbformat": 4,
  "nbformat_minor": 0
}